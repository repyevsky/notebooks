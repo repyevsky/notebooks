{
 "cells": [
  {
   "cell_type": "code",
   "execution_count": 1,
   "metadata": {},
   "outputs": [],
   "source": [
    "import numpy as np \n",
    "import random \n",
    "import pandas as pd\n",
    "import math\n",
    "\n",
    "from tqdm import tqdm_notebook as tqdm\n",
    "\n",
    "digits = pd.read_csv('mnist_train.csv', header=None, dtype=float)\n",
    "\n",
    "random_centers = digits.iloc[np.random.randint(0, len(digits), size=(10)), 1:]\n",
    "# random_centers = digits.iloc[[88, 205, 390, 254, 222, 437, 431, 436, 352, 285], 1:]\n",
    "\n",
    "X = digits.iloc[:10000, 1:]"
   ]
  },
  {
   "cell_type": "code",
   "execution_count": 24,
   "metadata": {
    "scrolled": true
   },
   "outputs": [
    {
     "data": {
      "application/vnd.jupyter.widget-view+json": {
       "model_id": "c79ae256f15b4163bd531a1ea069a287",
       "version_major": 2,
       "version_minor": 0
      },
      "text/html": [
       "<p>Failed to display Jupyter Widget of type <code>HBox</code>.</p>\n",
       "<p>\n",
       "  If you're reading this message in the Jupyter Notebook or JupyterLab Notebook, it may mean\n",
       "  that the widgets JavaScript is still loading. If this message persists, it\n",
       "  likely means that the widgets JavaScript library is either not installed or\n",
       "  not enabled. See the <a href=\"https://ipywidgets.readthedocs.io/en/stable/user_install.html\">Jupyter\n",
       "  Widgets Documentation</a> for setup instructions.\n",
       "</p>\n",
       "<p>\n",
       "  If you're reading this message in another frontend (for example, a static\n",
       "  rendering on GitHub or <a href=\"https://nbviewer.jupyter.org/\">NBViewer</a>),\n",
       "  it may mean that your frontend doesn't currently support widgets.\n",
       "</p>\n"
      ],
      "text/plain": [
       "HBox(children=(IntProgress(value=0, max=500), HTML(value=u'')))"
      ]
     },
     "metadata": {},
     "output_type": "display_data"
    },
    {
     "name": "stdout",
     "output_type": "stream",
     "text": [
      "\n",
      "CPU times: user 6min 57s, sys: 5min 42s, total: 12min 39s\n",
      "Wall time: 12min 41s\n"
     ]
    }
   ],
   "source": [
    "%%time\n",
    "centers = random_centers.values\n",
    "\n",
    "for i in tqdm(range(500)):\n",
    "    distances = [((X.iloc[:, :784] - centers[k, :])**2).mean(axis=1) for k in range(len(centers))]\n",
    "    distances = np.array(distances)\n",
    "    X['N'] = [np.argmin(distances[:, i]) for i in range(len(X))]\n",
    "    centers = X.groupby(by='N').mean().values    "
   ]
  },
  {
   "cell_type": "code",
   "execution_count": 31,
   "metadata": {
    "scrolled": true
   },
   "outputs": [
    {
     "name": "stderr",
     "output_type": "stream",
     "text": [
      "/usr/local/lib/python2.7/dist-packages/ipykernel_launcher.py:3: UserWarning: Boolean Series key will be reindexed to match DataFrame index.\n",
      "  This is separate from the ipykernel package so we can avoid doing imports until\n"
     ]
    },
    {
     "data": {
      "text/plain": [
       "[[2, 0, 66, 1, 784, 1, 44, 50, 39, 14],\n",
       " [12, 2, 3, 1051, 0, 2, 54, 2, 1, 0],\n",
       " [12, 2, 23, 147, 8, 652, 52, 55, 26, 14],\n",
       " [46, 7, 268, 54, 6, 22, 33, 582, 9, 5],\n",
       " [248, 193, 0, 14, 0, 0, 123, 1, 14, 387],\n",
       " [71, 6, 174, 12, 9, 1, 326, 225, 19, 20],\n",
       " [1, 0, 4, 47, 14, 4, 65, 5, 776, 98],\n",
       " [358, 514, 0, 50, 1, 3, 35, 2, 0, 107],\n",
       " [38, 18, 451, 73, 4, 7, 135, 183, 12, 23],\n",
       " [366, 311, 2, 10, 6, 0, 46, 13, 2, 222]]"
      ]
     },
     "execution_count": 31,
     "metadata": {},
     "output_type": "execute_result"
    }
   ],
   "source": [
    "confusion_matrix = []\n",
    "for i in range(len(centers)):\n",
    "    confusion_matrix.append([sum(X[digits[0]==i]['N']==j) for j in range(10)])\n",
    "confusion_matrix"
   ]
  }
 ],
 "metadata": {
  "kernelspec": {
   "display_name": "Python 2",
   "language": "python",
   "name": "python2"
  },
  "language_info": {
   "codemirror_mode": {
    "name": "ipython",
    "version": 2
   },
   "file_extension": ".py",
   "mimetype": "text/x-python",
   "name": "python",
   "nbconvert_exporter": "python",
   "pygments_lexer": "ipython2",
   "version": "2.7.12"
  }
 },
 "nbformat": 4,
 "nbformat_minor": 1
}
